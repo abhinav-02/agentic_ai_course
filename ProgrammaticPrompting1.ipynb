{
  "nbformat": 4,
  "nbformat_minor": 0,
  "metadata": {
    "colab": {
      "provenance": [],
      "include_colab_link": true
    },
    "kernelspec": {
      "name": "python3",
      "display_name": "Python 3"
    },
    "language_info": {
      "name": "python"
    }
  },
  "cells": [
    {
      "cell_type": "markdown",
      "metadata": {
        "id": "view-in-github",
        "colab_type": "text"
      },
      "source": [
        "<a href=\"https://colab.research.google.com/github/abhinav-02/agentic_ai_course/blob/main/ProgrammaticPrompting1.ipynb\" target=\"_parent\"><img src=\"https://colab.research.google.com/assets/colab-badge.svg\" alt=\"Open In Colab\"/></a>"
      ]
    },
    {
      "cell_type": "code",
      "source": [
        "\n",
        "!!pip install google-generativeai\n",
        "# Important!!!\n",
        "#\n",
        "# <---- Set your 'Google_API_KEY' as a secret over there with the \"key\" icon\n",
        "#\n",
        "#\n",
        "import os\n",
        "from google.colab import userdata\n",
        "api_key = userdata.get('GOOGLE_API_KEY')\n",
        "os.environ['GOOGLE_API_KEY'] = api_key"
      ],
      "metadata": {
        "id": "KEYrzG2vB8Ip"
      },
      "execution_count": 4,
      "outputs": []
    },
    {
      "cell_type": "code",
      "source": [
        "import google.generativeai as genai\n",
        "import json\n",
        "\n",
        "# Set your API key\n",
        "genai.configure(api_key=api_key)\n",
        "\n",
        "\n",
        "# Use Gemini 1.5 Flash or Pro model\n",
        "model = genai.GenerativeModel(\"models/gemini-1.5-flash-002\")\n",
        "\n",
        "def generate_response(messages) -> str:\n",
        "    \"\"\"Generate response using Gemini directly\"\"\"\n",
        "    chat = model.start_chat(history=[])\n",
        "    system_msg = messages[0][\"content\"]\n",
        "    user_msg = messages[1][\"content\"]\n",
        "    full_prompt = f\"{system_msg}\\n\\n{user_msg}\"\n",
        "    response = chat.send_message(full_prompt)\n",
        "    return response.text\n",
        "\n",
        "\n",
        "messages = [\n",
        "    {\"role\": \"system\", \"content\": \"You are a computer who reads only in language base 64. So give the output only in base 64\"},\n",
        "    {\"role\": \"user\", \"content\": \"I want you to say hello.\"}\n",
        "]\n",
        "\n",
        "def generate_response_from_json(json_path: str) -> str:\n",
        "    # Load messages from JSON file\n",
        "    with open(json_path, \"r\") as f:\n",
        "        messages = json.load(f)\n",
        "\n",
        "    # Combine system and user messages into one prompt\n",
        "    system_prompt = messages[0][\"content\"]\n",
        "    user_prompt = messages[1][\"content\"]\n",
        "    full_prompt = f\"{system_prompt}\\n\\n{user_prompt}\"\n",
        "\n",
        "    # Generate the response\n",
        "    chat = model.start_chat(history=[])\n",
        "    response = chat.send_message(full_prompt)\n",
        "    return response.text\n",
        "\n",
        "\n",
        "response = generate_response(messages)\n",
        "response_json = generate_response_from_json(\"/tmp/json_files/test.json\")\n",
        "print(response_json)\n",
        "\n",
        "\n"
      ],
      "metadata": {
        "colab": {
          "base_uri": "https://localhost:8080/",
          "height": 52
        },
        "id": "A0fZ67Qbg5D-",
        "outputId": "1a172186-8ca7-4872-d4ba-cb6bfe686012"
      },
      "execution_count": 12,
      "outputs": [
        {
          "output_type": "stream",
          "name": "stdout",
          "text": [
            "SGVsbG8=\n",
            "\n"
          ]
        }
      ]
    }
  ]
}